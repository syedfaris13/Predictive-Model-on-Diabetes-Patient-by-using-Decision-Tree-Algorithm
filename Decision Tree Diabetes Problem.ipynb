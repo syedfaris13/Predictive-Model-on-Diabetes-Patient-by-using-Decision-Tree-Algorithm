{
 "cells": [
  {
   "cell_type": "markdown",
   "id": "919a8959-6f0f-4971-b90e-7595da8d7ca3",
   "metadata": {},
   "source": [
    "## Business Understanding\n",
    "- Main Goal : Predicting whether or not the patients having diabetes\n",
    "- Objective : Build a model based on using DS."
   ]
  },
  {
   "cell_type": "code",
   "execution_count": 1,
   "id": "1cc442ca-dd7a-4743-b38c-590dad8399b1",
   "metadata": {},
   "outputs": [],
   "source": [
    "# Loading needed libraries\n",
    "import pandas as pd\n",
    "from sklearn.tree import DecisionTreeClassifier\n",
    "from sklearn.model_selection import train_test_split\n",
    "from sklearn import metrics  # Module for accuracy calculation"
   ]
  },
  {
   "cell_type": "code",
   "execution_count": 8,
   "id": "955cbbe0-94ac-4543-bccc-9481872943dd",
   "metadata": {},
   "outputs": [
    {
     "data": {
      "text/html": [
       "<div>\n",
       "<style scoped>\n",
       "    .dataframe tbody tr th:only-of-type {\n",
       "        vertical-align: middle;\n",
       "    }\n",
       "\n",
       "    .dataframe tbody tr th {\n",
       "        vertical-align: top;\n",
       "    }\n",
       "\n",
       "    .dataframe thead th {\n",
       "        text-align: right;\n",
       "    }\n",
       "</style>\n",
       "<table border=\"1\" class=\"dataframe\">\n",
       "  <thead>\n",
       "    <tr style=\"text-align: right;\">\n",
       "      <th></th>\n",
       "      <th>pregnant</th>\n",
       "      <th>glucose</th>\n",
       "      <th>bp</th>\n",
       "      <th>skin</th>\n",
       "      <th>insulin</th>\n",
       "      <th>bmi</th>\n",
       "      <th>pedigree</th>\n",
       "      <th>age</th>\n",
       "      <th>label</th>\n",
       "    </tr>\n",
       "  </thead>\n",
       "  <tbody>\n",
       "    <tr>\n",
       "      <th>0</th>\n",
       "      <td>6</td>\n",
       "      <td>148</td>\n",
       "      <td>72</td>\n",
       "      <td>35</td>\n",
       "      <td>0</td>\n",
       "      <td>33.6</td>\n",
       "      <td>0.627</td>\n",
       "      <td>50</td>\n",
       "      <td>1</td>\n",
       "    </tr>\n",
       "    <tr>\n",
       "      <th>1</th>\n",
       "      <td>1</td>\n",
       "      <td>85</td>\n",
       "      <td>66</td>\n",
       "      <td>29</td>\n",
       "      <td>0</td>\n",
       "      <td>26.6</td>\n",
       "      <td>0.351</td>\n",
       "      <td>31</td>\n",
       "      <td>0</td>\n",
       "    </tr>\n",
       "    <tr>\n",
       "      <th>2</th>\n",
       "      <td>8</td>\n",
       "      <td>183</td>\n",
       "      <td>64</td>\n",
       "      <td>0</td>\n",
       "      <td>0</td>\n",
       "      <td>23.3</td>\n",
       "      <td>0.672</td>\n",
       "      <td>32</td>\n",
       "      <td>1</td>\n",
       "    </tr>\n",
       "    <tr>\n",
       "      <th>3</th>\n",
       "      <td>1</td>\n",
       "      <td>89</td>\n",
       "      <td>66</td>\n",
       "      <td>23</td>\n",
       "      <td>94</td>\n",
       "      <td>28.1</td>\n",
       "      <td>0.167</td>\n",
       "      <td>21</td>\n",
       "      <td>0</td>\n",
       "    </tr>\n",
       "    <tr>\n",
       "      <th>4</th>\n",
       "      <td>0</td>\n",
       "      <td>137</td>\n",
       "      <td>40</td>\n",
       "      <td>35</td>\n",
       "      <td>168</td>\n",
       "      <td>43.1</td>\n",
       "      <td>2.288</td>\n",
       "      <td>33</td>\n",
       "      <td>1</td>\n",
       "    </tr>\n",
       "  </tbody>\n",
       "</table>\n",
       "</div>"
      ],
      "text/plain": [
       "   pregnant  glucose  bp  skin  insulin   bmi  pedigree  age  label\n",
       "0         6      148  72    35        0  33.6     0.627   50      1\n",
       "1         1       85  66    29        0  26.6     0.351   31      0\n",
       "2         8      183  64     0        0  23.3     0.672   32      1\n",
       "3         1       89  66    23       94  28.1     0.167   21      0\n",
       "4         0      137  40    35      168  43.1     2.288   33      1"
      ]
     },
     "execution_count": 8,
     "metadata": {},
     "output_type": "execute_result"
    }
   ],
   "source": [
    "col_names = ['pregnant', 'glucose', 'bp', 'skin', 'insulin', 'bmi', 'pedigree', 'age', 'label']\n",
    "# load dataset\n",
    "\n",
    "pima = pd.read_csv('diabetes.csv', header=0, names=col_names)\n",
    "pima.head()"
   ]
  },
  {
   "cell_type": "code",
   "execution_count": 9,
   "id": "3033995b-8197-46c4-b54a-e605c1ac27ce",
   "metadata": {},
   "outputs": [],
   "source": [
    "#split dataset in independent variables and dependent (target) feature\n",
    "feature_cols = ['pregnant', 'insulin', 'bmi', 'age','glucose','bp','pedigree']\n",
    "X = pima[feature_cols] # independent variable\n",
    "y = pima.label # dependent variable"
   ]
  },
  {
   "cell_type": "code",
   "execution_count": 10,
   "id": "3099d7f4-c9ce-4328-8d8c-d9e5f8fd8880",
   "metadata": {},
   "outputs": [],
   "source": [
    "# Splitting ting the dataset into training set and test set\n",
    "X_train, X_test, y_train, y_test = train_test_split(X, y, test_size=0.3, random_state=4) # 70% training and 30% test"
   ]
  },
  {
   "cell_type": "code",
   "execution_count": 11,
   "id": "a34b4409-106f-4214-ba75-1205bc940b8e",
   "metadata": {},
   "outputs": [],
   "source": [
    "# Create Decision Tree Classifier object\n",
    "clf = DecisionTreeClassifier()\n",
    "\n",
    "# Train Decision Tree Classifier\n",
    "clf = clf.fit(X_train, y_train)\n",
    "\n",
    "# Predict the response for the dataset\n",
    "y_pred = clf.predict(X_test)"
   ]
  },
  {
   "cell_type": "code",
   "execution_count": 12,
   "id": "8a379afe-fb53-4ae0-8113-2c76847048ff",
   "metadata": {},
   "outputs": [
    {
     "name": "stdout",
     "output_type": "stream",
     "text": [
      "Accuracy :  0.7056277056277056\n"
     ]
    }
   ],
   "source": [
    "# Checking the accuracy by comparing the predicted result to the actual result\n",
    "print('Accuracy : ', metrics.accuracy_score(y_test, y_pred))"
   ]
  },
  {
   "cell_type": "code",
   "execution_count": null,
   "id": "5cb00169-f787-44d2-b5a1-3340755bcb33",
   "metadata": {},
   "outputs": [],
   "source": [
    "# Data visualization \n",
    "# Don't run this cell. For some reason this laptop got error\n",
    "# The output of this cell is the image below this cell\n",
    "\n",
    "!pip install graphviz\n",
    "!pip install pydotplus\n",
    "!pip install --upgrade scikit-learn==0.20.3\n",
    "\n",
    "\n",
    "from sklearn.tree import export_graphviz\n",
    "from sklearn.externals.six import StringIO  \n",
    "from IPython.display import Image  \n",
    "import pydotplus\n",
    "\n",
    "dot_data = StringIO()\n",
    "export_graphviz(clf, out_file=dot_data,  \n",
    "                filled=True, rounded=True,\n",
    "                special_characters=True,feature_names = feature_cols,class_names=['0','1'])\n",
    "graph = pydotplus.graph_from_dot_data(dot_data.getvalue())  \n",
    "graph.write_png('diabetes.png')\n",
    "Image(graph.create_png())"
   ]
  },
  {
   "cell_type": "markdown",
   "id": "83697d4c-5fbb-46f8-8293-3ed0bf6364ad",
   "metadata": {},
   "source": [
    "<img src='diabetes.jpeg'>"
   ]
  },
  {
   "cell_type": "code",
   "execution_count": null,
   "id": "ed9d70d8-af35-4e7b-beed-7dfe497d541a",
   "metadata": {},
   "outputs": [],
   "source": []
  }
 ],
 "metadata": {
  "kernelspec": {
   "display_name": "Python 3 (ipykernel)",
   "language": "python",
   "name": "python3"
  },
  "language_info": {
   "codemirror_mode": {
    "name": "ipython",
    "version": 3
   },
   "file_extension": ".py",
   "mimetype": "text/x-python",
   "name": "python",
   "nbconvert_exporter": "python",
   "pygments_lexer": "ipython3",
   "version": "3.9.7"
  }
 },
 "nbformat": 4,
 "nbformat_minor": 5
}
